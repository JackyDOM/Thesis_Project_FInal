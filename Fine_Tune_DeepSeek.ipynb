{
 "cells": [
  {
   "cell_type": "code",
   "execution_count": 1,
   "metadata": {},
   "outputs": [],
   "source": [
    "%%capture\n",
    "%pip install unsloth"
   ]
  },
  {
   "cell_type": "code",
   "execution_count": 2,
   "metadata": {},
   "outputs": [
    {
     "name": "stdout",
     "output_type": "stream",
     "text": [
      "12.4\n",
      "True\n"
     ]
    }
   ],
   "source": [
    "import torch\n",
    "print(torch.version.cuda)\n",
    "print(torch.cuda.is_available())  "
   ]
  },
  {
   "cell_type": "markdown",
   "metadata": {},
   "source": [
    "#### There are two way to download Deepseek into locally"
   ]
  },
  {
   "cell_type": "markdown",
   "metadata": {},
   "source": [
    "#### Option 1: Using transformers to Download and Save Locally"
   ]
  },
  {
   "cell_type": "code",
   "execution_count": 6,
   "metadata": {},
   "outputs": [
    {
     "name": "stderr",
     "output_type": "stream",
     "text": [
      "Sliding Window Attention is enabled but not implemented for `sdpa`; unexpected results may be encountered.\n"
     ]
    },
    {
     "name": "stdout",
     "output_type": "stream",
     "text": [
      "Model and tokenizer saved to ./deepseek_r1_model\n"
     ]
    }
   ],
   "source": [
    "from transformers import AutoModelForCausalLM, AutoTokenizer\n",
    "import torch\n",
    "\n",
    "# Specify the model name\n",
    "model_name = \"deepseek-ai/DeepSeek-R1-Distill-Qwen-1.5B\"\n",
    "\n",
    "# Download and save the model and tokenizer locally\n",
    "local_model_path = \"./deepseek_r1_model\"  # Path to save the model\n",
    "tokenizer = AutoTokenizer.from_pretrained(model_name)\n",
    "model = AutoModelForCausalLM.from_pretrained(model_name, torch_dtype=torch.float16)\n",
    "\n",
    "# Save the model and tokenizer to the local path\n",
    "tokenizer.save_pretrained(local_model_path)\n",
    "model.save_pretrained(local_model_path)\n",
    "\n",
    "print(f\"Model and tokenizer saved to {local_model_path}\")"
   ]
  },
  {
   "cell_type": "markdown",
   "metadata": {},
   "source": [
    "#### Option 2: Using huggingface_hub to Download"
   ]
  },
  {
   "cell_type": "code",
   "execution_count": 3,
   "metadata": {},
   "outputs": [
    {
     "name": "stderr",
     "output_type": "stream",
     "text": [
      "/home/panha/Desktop/Rupp/Year_4/semester_2/fine_tuning_deep_seek_r1/env/lib/python3.12/site-packages/tqdm/auto.py:21: TqdmWarning: IProgress not found. Please update jupyter and ipywidgets. See https://ipywidgets.readthedocs.io/en/stable/user_install.html\n",
      "  from .autonotebook import tqdm as notebook_tqdm\n",
      "Fetching 9 files: 100%|██████████| 9/9 [00:05<00:00,  1.77it/s]"
     ]
    },
    {
     "name": "stdout",
     "output_type": "stream",
     "text": [
      "Model downloaded to ./deepseek_r1_model\n"
     ]
    },
    {
     "name": "stderr",
     "output_type": "stream",
     "text": [
      "\n"
     ]
    }
   ],
   "source": [
    "from huggingface_hub import snapshot_download\n",
    "\n",
    "# Specify the model name\n",
    "model_name = \"deepseek-ai/DeepSeek-R1-Distill-Qwen-1.5B\"\n",
    "\n",
    "# Download the model to a local directory\n",
    "local_model_path = \"./deepseek_r1_model\"\n",
    "snapshot_download(repo_id=model_name, local_dir=local_model_path)\n",
    "\n",
    "print(f\"Model downloaded to {local_model_path}\")"
   ]
  },
  {
   "cell_type": "code",
   "execution_count": 1,
   "metadata": {},
   "outputs": [
    {
     "name": "stdout",
     "output_type": "stream",
     "text": [
      "🦥 Unsloth: Will patch your computer to enable 2x faster free finetuning.\n"
     ]
    },
    {
     "name": "stderr",
     "output_type": "stream",
     "text": [
      "/home/panha/Desktop/Rupp/Year_4/semester_2/fine_tuning_deep_seek_r1/env/lib/python3.12/site-packages/tqdm/auto.py:21: TqdmWarning: IProgress not found. Please update jupyter and ipywidgets. See https://ipywidgets.readthedocs.io/en/stable/user_install.html\n",
      "  from .autonotebook import tqdm as notebook_tqdm\n"
     ]
    },
    {
     "name": "stdout",
     "output_type": "stream",
     "text": [
      "🦥 Unsloth Zoo will now patch everything to make training faster!\n",
      "==((====))==  Unsloth 2025.2.15: Fast Qwen2 patching. Transformers: 4.49.0.\n",
      "   \\\\   /|    GPU: NVIDIA GeForce GTX 1650. Max memory: 3.806 GB. Platform: Linux.\n",
      "O^O/ \\_/ \\    Torch: 2.6.0+cu124. CUDA: 7.5. CUDA Toolkit: 12.4. Triton: 3.2.0\n",
      "\\        /    Bfloat16 = FALSE. FA [Xformers = 0.0.29.post3. FA2 = False]\n",
      " \"-____-\"     Free Apache license: http://github.com/unslothai/unsloth\n",
      "Unsloth: Fast downloading is enabled - ignore downloading bars which are red colored!\n"
     ]
    },
    {
     "name": "stderr",
     "output_type": "stream",
     "text": [
      "Sliding Window Attention is enabled but not implemented for `eager`; unexpected results may be encountered.\n"
     ]
    },
    {
     "name": "stdout",
     "output_type": "stream",
     "text": [
      "./deepseek_r1_model does not have a padding token! Will use pad_token = <|vision_pad|>.\n",
      "Model and tokenizer loaded successfully!\n"
     ]
    }
   ],
   "source": [
    "from unsloth import FastLanguageModel\n",
    "\n",
    "# Specify the local path to the model\n",
    "local_model_path = \"./deepseek_r1_model\"\n",
    "\n",
    "# Load the model and tokenizer\n",
    "model, tokenizer = FastLanguageModel.from_pretrained(\n",
    "    model_name=local_model_path,  # Use the local path\n",
    "    max_seq_length=2048,\n",
    "    dtype=None,\n",
    "    load_in_4bit=True,\n",
    ")\n",
    "\n",
    "print(\"Model and tokenizer loaded successfully!\")"
   ]
  },
  {
   "cell_type": "code",
   "execution_count": 2,
   "metadata": {},
   "outputs": [],
   "source": [
    "prompt_style = \"\"\"Below is an instruction that describes a task, paired with an input that provides further context.\n",
    "Write a response that appropriately completes the request.\n",
    "Before answering, think carefully about the question and create a step-by-step chain of thoughts to ensure a logical and accurate response.\n",
    "\n",
    "### Instruction:\n",
    "You are a medical expert with advanced knowledge in clinical reasoning, diagnostics, and treatment planning.\n",
    "Please answer the following medical question.\n",
    "\n",
    "### Question:\n",
    "{}\n",
    "\n",
    "### Response:\n",
    "<think>{}\"\"\""
   ]
  },
  {
   "cell_type": "markdown",
   "metadata": {},
   "source": [
    "#### Tokenizer : Convert the input string into list of integer tokens that would be input the LM."
   ]
  },
  {
   "cell_type": "code",
   "execution_count": 3,
   "metadata": {},
   "outputs": [],
   "source": [
    "question = \"A 61-year-old woman with a long history of involuntary urine loss during activities like coughing or sneezing but no leakage at night undergoes a gynecological exam and Q-tip test. Based on these findings, what would cystometry most likely reveal about her residual volume and detrusor contractions?\"\n",
    "\n",
    "\n",
    "FastLanguageModel.for_inference(model)\n",
    "inputs = tokenizer([prompt_style.format(question, \"\")], return_tensors=\"pt\").to(\"cuda\")"
   ]
  },
  {
   "cell_type": "markdown",
   "metadata": {},
   "source": [
    "#### Print the shape of tensor that convert into integer list"
   ]
  },
  {
   "cell_type": "code",
   "execution_count": 4,
   "metadata": {},
   "outputs": [
    {
     "name": "stdout",
     "output_type": "stream",
     "text": [
      "torch.Size([1, 152])\n"
     ]
    },
    {
     "data": {
      "text/plain": [
       "tensor([[151646,  38214,    374,    458,   7600,    429,  16555,    264,   3383,\n",
       "             11,  34426,    448,    458,   1946,    429,   5707,   4623,   2266,\n",
       "            624,   7985,    264,   2033,    429,  34901,  44595,    279,   1681,\n",
       "            624,  10227,  35764,     11,   1744,  15516,    911,    279,   3405,\n",
       "            323,   1855,    264,   3019,  14319,  29208,   8781,    315,  11303,\n",
       "            311,   5978,    264,  19819,    323,  13382,   2033,    382,  14374,\n",
       "          29051,    510,   2610,    525,    264,   6457,   6203,    448,  10847,\n",
       "           6540,    304,  14490,  32711,     11,  49418,     11,    323,   6380,\n",
       "           9115,    624,   5501,   4226,    279,   2701,   6457,   3405,    382,\n",
       "          14374,  15846,    510,     32,    220,     21,     16,   4666,   6284,\n",
       "           5220,    448,    264,   1293,   3840,    315,  90505,  39235,   4709,\n",
       "           2337,   7488,   1075,  39600,    287,    476,  20760,  10125,    287,\n",
       "            714,    902,  80273,    518,   3729,  36671,    288,    264,    342,\n",
       "          73930,   5729,   7006,    323,   1207,  83229,   1273,     13,  20205,\n",
       "            389,   1493,  14613,     11,   1128,   1035,  62481,   6988,   1429,\n",
       "           4363,  16400,    911,   1059,  32147,   8123,    323,   3392,  20341,\n",
       "            269,   6027,   4020,   1939,  14374,   5949,    510, 151648]],\n",
       "       device='cuda:0')"
      ]
     },
     "execution_count": 4,
     "metadata": {},
     "output_type": "execute_result"
    }
   ],
   "source": [
    "# print the shape of input string after convert\n",
    "print(inputs[\"input_ids\"].shape)\n",
    "# Each Integer value is represent word from input\n",
    "inputs[\"input_ids\"]"
   ]
  },
  {
   "cell_type": "markdown",
   "metadata": {},
   "source": [
    "#### Let Convert it back to text (decoding)"
   ]
  },
  {
   "cell_type": "code",
   "execution_count": 5,
   "metadata": {},
   "outputs": [
    {
     "data": {
      "text/plain": [
       "['<｜begin▁of▁sentence｜>Below is an instruction that describes a task, paired with an input that provides further context.\\nWrite a response that appropriately completes the request.\\nBefore answering, think carefully about the question and create a step-by-step chain of thoughts to ensure a logical and accurate response.\\n\\n### Instruction:\\nYou are a medical expert with advanced knowledge in clinical reasoning, diagnostics, and treatment planning.\\nPlease answer the following medical question.\\n\\n### Question:\\nA 61-year-old woman with a long history of involuntary urine loss during activities like coughing or sneezing but no leakage at night undergoes a gynecological exam and Q-tip test. Based on these findings, what would cystometry most likely reveal about her residual volume and detrusor contractions?\\n\\n### Response:\\n<think>']"
      ]
     },
     "execution_count": 5,
     "metadata": {},
     "output_type": "execute_result"
    }
   ],
   "source": [
    "tokenizer.batch_decode(inputs[\"input_ids\"])"
   ]
  },
  {
   "cell_type": "markdown",
   "metadata": {},
   "source": [
    "#### Attention Mask"
   ]
  },
  {
   "cell_type": "code",
   "execution_count": 6,
   "metadata": {},
   "outputs": [
    {
     "data": {
      "text/plain": [
       "tensor([[1, 1, 1, 1, 1, 1, 1, 1, 1, 1, 1, 1, 1, 1, 1, 1, 1, 1, 1, 1, 1, 1, 1, 1,\n",
       "         1, 1, 1, 1, 1, 1, 1, 1, 1, 1, 1, 1, 1, 1, 1, 1, 1, 1, 1, 1, 1, 1, 1, 1,\n",
       "         1, 1, 1, 1, 1, 1, 1, 1, 1, 1, 1, 1, 1, 1, 1, 1, 1, 1, 1, 1, 1, 1, 1, 1,\n",
       "         1, 1, 1, 1, 1, 1, 1, 1, 1, 1, 1, 1, 1, 1, 1, 1, 1, 1, 1, 1, 1, 1, 1, 1,\n",
       "         1, 1, 1, 1, 1, 1, 1, 1, 1, 1, 1, 1, 1, 1, 1, 1, 1, 1, 1, 1, 1, 1, 1, 1,\n",
       "         1, 1, 1, 1, 1, 1, 1, 1, 1, 1, 1, 1, 1, 1, 1, 1, 1, 1, 1, 1, 1, 1, 1, 1,\n",
       "         1, 1, 1, 1, 1, 1, 1, 1]], device='cuda:0')"
      ]
     },
     "execution_count": 6,
     "metadata": {},
     "output_type": "execute_result"
    }
   ],
   "source": [
    "inputs['attention_mask']"
   ]
  },
  {
   "cell_type": "markdown",
   "metadata": {},
   "source": [
    "##### Let give the prompt to model"
   ]
  },
  {
   "cell_type": "code",
   "execution_count": 7,
   "metadata": {},
   "outputs": [
    {
     "name": "stdout",
     "output_type": "stream",
     "text": [
      "\n",
      "<think>\n",
      "Okay, I need to figure out what the response should be for this medical question. The woman is 61 and has a long history of involuntary urine loss during activities but not at night. She's undergoing a gynecological exam and a Q-tip test. The question is about what cystometry would reveal regarding her residual volume and detrusor contractions.\n",
      "\n",
      "First, let's think about the Q-tip test. The Q-tip is a dye that comes off when there's a leak. If it's not coming off, it might indicate a residual volume. But wait, sometimes the dye can stay if the leak is small. So maybe the Q-tip test is not showing a leakage, but the cystometry might.\n",
      "\n",
      "Cystometry measures residual volume and also looks for detrusor contractions. Residual volume is the amount of fluid that remains in the lungs. If the woman has a lot of urine, that suggests a large residual volume. Detrusor contractions are when the diaphragm contracts, causing gas to come out. If the woman has these contractions, it might indicate a small residual volume because the diaphragm is still contracting.\n",
      "\n",
      "In this case, she has a long history of involuntary urine loss, so she probably has a significant residual volume. The Q-tip test didn't show a leakage, which might mean she has a small residual volume. But the cystometry would combine both findings. If she has significant residual volume, cystometry might show a high residual volume. If she has small residual volume with detrusor contractions, it would show a low residual volume but indicate contractions.\n",
      "\n",
      "Wait, the question is about what cystometry would reveal. So if she has significant residual volume, cystometry would show that. But if she has small residual volume with contractions, it would show that. So depending on the findings, cystometry would either show high residual volume or low with contractions.\n",
      "\n",
      "But the question is asking what would cystometry reveal, so I think it's about both findings. Maybe she has both a significant residual volume and contractions. Or maybe she has significant residual volume but no contractions. Or maybe she has small residual volume with contractions.\n",
      "\n",
      "Wait, but the question is asking what cystometry would reveal. So I think the answer depends on the findings. If she has significant residual volume and contractions, cystometry would show both. If she has small residual volume but no contractions, it would show small residual. But since she has a history of urine loss, she likely has significant residual volume.\n",
      "\n",
      "So the most likely scenario is significant residual volume with detrusor contractions. Therefore, cystometry would reveal both high residual volume and contractions.\n",
      "</think>\n",
      "\n",
      "Cystometry would likely reveal both high residual volume and detrusor contractions in this patient.<｜end▁of▁sentence｜>\n"
     ]
    }
   ],
   "source": [
    "outputs = model.generate(\n",
    "    input_ids=inputs.input_ids,\n",
    "    attention_mask=inputs.attention_mask,\n",
    "    max_new_tokens=1200,\n",
    "    use_cache=True,\n",
    ")\n",
    "response = tokenizer.batch_decode(outputs)\n",
    "print(response[0].split(\"### Response:\")[1])"
   ]
  }
 ],
 "metadata": {
  "kernelspec": {
   "display_name": "env",
   "language": "python",
   "name": "python3"
  },
  "language_info": {
   "codemirror_mode": {
    "name": "ipython",
    "version": 3
   },
   "file_extension": ".py",
   "mimetype": "text/x-python",
   "name": "python",
   "nbconvert_exporter": "python",
   "pygments_lexer": "ipython3",
   "version": "3.12.3"
  }
 },
 "nbformat": 4,
 "nbformat_minor": 2
}
