{
 "cells": [
  {
   "cell_type": "code",
   "execution_count": 1,
   "metadata": {},
   "outputs": [],
   "source": [
    "%%capture\n",
    "%pip install unsloth"
   ]
  },
  {
   "cell_type": "code",
   "execution_count": 2,
   "metadata": {},
   "outputs": [
    {
     "name": "stdout",
     "output_type": "stream",
     "text": [
      "12.4\n",
      "True\n"
     ]
    }
   ],
   "source": [
    "import torch\n",
    "print(torch.version.cuda)\n",
    "print(torch.cuda.is_available())  "
   ]
  },
  {
   "cell_type": "markdown",
   "metadata": {},
   "source": [
    "#### Option 1: Using transformers to Download and Save Locally"
   ]
  },
  {
   "cell_type": "code",
   "execution_count": 6,
   "metadata": {},
   "outputs": [
    {
     "name": "stderr",
     "output_type": "stream",
     "text": [
      "Sliding Window Attention is enabled but not implemented for `sdpa`; unexpected results may be encountered.\n"
     ]
    },
    {
     "name": "stdout",
     "output_type": "stream",
     "text": [
      "Model and tokenizer saved to ./deepseek_r1_model\n"
     ]
    }
   ],
   "source": [
    "from transformers import AutoModelForCausalLM, AutoTokenizer\n",
    "import torch\n",
    "\n",
    "# Specify the model name\n",
    "model_name = \"deepseek-ai/DeepSeek-R1-Distill-Qwen-1.5B\"\n",
    "\n",
    "# Download and save the model and tokenizer locally\n",
    "local_model_path = \"./deepseek_r1_model\"  # Path to save the model\n",
    "tokenizer = AutoTokenizer.from_pretrained(model_name)\n",
    "model = AutoModelForCausalLM.from_pretrained(model_name, torch_dtype=torch.float16)\n",
    "\n",
    "# Save the model and tokenizer to the local path\n",
    "tokenizer.save_pretrained(local_model_path)\n",
    "model.save_pretrained(local_model_path)\n",
    "\n",
    "print(f\"Model and tokenizer saved to {local_model_path}\")"
   ]
  },
  {
   "cell_type": "markdown",
   "metadata": {},
   "source": [
    "#### Option 2: Using huggingface_hub to Download"
   ]
  },
  {
   "cell_type": "code",
   "execution_count": 15,
   "metadata": {},
   "outputs": [
    {
     "name": "stderr",
     "output_type": "stream",
     "text": [
      "Fetching 9 files: 100%|██████████| 9/9 [00:05<00:00,  1.73it/s]"
     ]
    },
    {
     "name": "stdout",
     "output_type": "stream",
     "text": [
      "Model downloaded to ./deepseek_r1_model\n"
     ]
    },
    {
     "name": "stderr",
     "output_type": "stream",
     "text": [
      "\n"
     ]
    }
   ],
   "source": [
    "from huggingface_hub import snapshot_download\n",
    "\n",
    "# Specify the model name\n",
    "model_name = \"deepseek-ai/DeepSeek-R1-Distill-Qwen-1.5B\"\n",
    "\n",
    "# Download the model to a local directory\n",
    "local_model_path = \"./deepseek_r1_model\"\n",
    "snapshot_download(repo_id=model_name, local_dir=local_model_path)\n",
    "\n",
    "print(f\"Model downloaded to {local_model_path}\")"
   ]
  },
  {
   "cell_type": "code",
   "execution_count": 1,
   "metadata": {},
   "outputs": [
    {
     "name": "stdout",
     "output_type": "stream",
     "text": [
      "🦥 Unsloth: Will patch your computer to enable 2x faster free finetuning.\n"
     ]
    },
    {
     "name": "stderr",
     "output_type": "stream",
     "text": [
      "/home/panha/Desktop/Rupp/Year_4/semester_2/deep_seek_locally/env/lib/python3.12/site-packages/tqdm/auto.py:21: TqdmWarning: IProgress not found. Please update jupyter and ipywidgets. See https://ipywidgets.readthedocs.io/en/stable/user_install.html\n",
      "  from .autonotebook import tqdm as notebook_tqdm\n"
     ]
    },
    {
     "name": "stdout",
     "output_type": "stream",
     "text": [
      "🦥 Unsloth Zoo will now patch everything to make training faster!\n",
      "==((====))==  Unsloth 2025.2.15: Fast Qwen2 patching. Transformers: 4.49.0.\n",
      "   \\\\   /|    GPU: NVIDIA GeForce GTX 1650. Max memory: 3.806 GB. Platform: Linux.\n",
      "O^O/ \\_/ \\    Torch: 2.6.0+cu124. CUDA: 7.5. CUDA Toolkit: 12.4. Triton: 3.2.0\n",
      "\\        /    Bfloat16 = FALSE. FA [Xformers = 0.0.29.post3. FA2 = False]\n",
      " \"-____-\"     Free Apache license: http://github.com/unslothai/unsloth\n",
      "Unsloth: Fast downloading is enabled - ignore downloading bars which are red colored!\n"
     ]
    },
    {
     "name": "stderr",
     "output_type": "stream",
     "text": [
      "Sliding Window Attention is enabled but not implemented for `eager`; unexpected results may be encountered.\n"
     ]
    },
    {
     "name": "stdout",
     "output_type": "stream",
     "text": [
      "./deepseek_r1_model does not have a padding token! Will use pad_token = <|vision_pad|>.\n",
      "Model and tokenizer loaded successfully!\n"
     ]
    }
   ],
   "source": [
    "from unsloth import FastLanguageModel\n",
    "\n",
    "# Specify the local path to the model\n",
    "local_model_path = \"./deepseek_r1_model\"\n",
    "\n",
    "# Load the model and tokenizer\n",
    "model, tokenizer = FastLanguageModel.from_pretrained(\n",
    "    model_name=local_model_path,  # Use the local path\n",
    "    max_seq_length=2048,\n",
    "    dtype=None,\n",
    "    load_in_4bit=True,\n",
    ")\n",
    "\n",
    "print(\"Model and tokenizer loaded successfully!\")"
   ]
  },
  {
   "cell_type": "markdown",
   "metadata": {},
   "source": [
    "#### Setting up the model , We add the LoRA (Low-Rank Adapter) to the model using the linear modules from the base model. "
   ]
  },
  {
   "cell_type": "code",
   "execution_count": 4,
   "metadata": {},
   "outputs": [
    {
     "name": "stderr",
     "output_type": "stream",
     "text": [
      "Unsloth 2025.2.15 patched 28 layers with 28 QKV layers, 28 O layers and 28 MLP layers.\n"
     ]
    }
   ],
   "source": [
    "model = FastLanguageModel.get_peft_model(\n",
    "    model,\n",
    "    r=16, \n",
    "    target_modules=[\n",
    "        \"q_proj\",\n",
    "        \"k_proj\",\n",
    "        \"v_proj\",\n",
    "        \"o_proj\",\n",
    "        \"gate_proj\",\n",
    "        \"up_proj\",\n",
    "        \"down_proj\",\n",
    "    ],\n",
    "    lora_alpha=16,\n",
    "    lora_dropout=0, \n",
    "    bias=\"none\", \n",
    "   \n",
    "    use_gradient_checkpointing=\"unsloth\", \n",
    "    random_state=3407,\n",
    "    use_rslora=False, \n",
    "    loftq_config=None,\n",
    ")"
   ]
  },
  {
   "cell_type": "code",
   "execution_count": 5,
   "metadata": {},
   "outputs": [],
   "source": [
    "prompt_style = \"\"\"Below is an instruction that describes a task, paired with an input that provides further context.\n",
    "Write a response that appropriately completes the request.\n",
    "Before answering, think carefully about the question and create a step-by-step chain of thoughts to ensure a logical and accurate response.\n",
    "\n",
    "### Instruction:\n",
    "You are a medical expert with advanced knowledge in clinical reasoning, diagnostics, and treatment planning.\n",
    "Please answer the following medical question.\n",
    "\n",
    "### Question:\n",
    "{}\n",
    "\n",
    "### Response:\n",
    "<think>{}\"\"\""
   ]
  },
  {
   "cell_type": "code",
   "execution_count": 6,
   "metadata": {},
   "outputs": [
    {
     "name": "stdout",
     "output_type": "stream",
     "text": [
      "\n",
      "<think>\n",
      "Okay, so I'm trying to figure out what cystometry would reveal in this scenario. Let's break it down step by step. The patient is a 61-year-old woman with a long history of involuntary urine loss during activities but no leakage at night. She's undergoing a gynecological exam and a Q-tip test. \n",
      "\n",
      "First, I remember that cystometry is a method to measure residual volume in the lungs. It involves placing a Q-tip under the skin and observing how much air comes out with each breath. Depending on the amount of air expelled, it can indicate different lung conditions.\n",
      "\n",
      "Now, the patient's history of involuntary urine loss during activities but not at night makes me think about the underlying cause. Involuntary urine loss can often be due to conditions like acute respiratory failure or hypoventilation. Since she's not losing urine at night, maybe it's related to her breathing pattern during the activities.\n",
      "\n",
      "The Q-tip test is used to assess lung function. If the Q-tip doesn't expel any air on the first breath, it could indicate a gas impossibility, meaning there's no gas in the lungs. But in this case, since she's not losing urine, maybe she's not experiencing gas impossibility.\n",
      "\n",
      "Cystometry would involve measuring residual volume. If she has a high residual volume, it might indicate that she has some gas in her lungs, which could be related to a gas impossibility. Alternatively, if she has a low residual volume, it might suggest that the gas is present but not affecting her breathing.\n",
      "\n",
      "Wait, but the question is about what cystometry would most likely reveal about her residual volume and detrusor contractions. Detrusor contractions are a type of breathing pattern associated with acute respiratory failure. They occur when the diaphragm and intercostum muscles are overextended, leading to forced vital capacity (FVC) and gas impossibility.\n",
      "\n",
      "In this patient, since she has no leakage at night, maybe she's not experiencing acute respiratory failure. But during activities, she might be pushing herself too hard, leading to detrusor contractions. If cystometry shows a high residual volume, it might suggest gas impossibility, but if it's low, it could indicate the presence of gas and possible detrusor contractions.\n",
      "\n",
      "But wait, the Q-tip test might not show any gas expelling on the first breath because she's not losing urine. So maybe she doesn't have gas impossibility. Alternatively, if she has gas, the Q-tip might show some volume, but if it's low, it could mean she's at a certain level of gas presence.\n",
      "\n",
      "I think in this case, since she's not losing urine at night, it might suggest she's not having gas impossibility, so the Q-tip wouldn't show gas expelling. But during activities, she might be pushing herself too hard, leading to detrusor contractions. So cystometry might show low residual volume or no volume, indicating no gas impossibility but possible detrusor contractions.\n",
      "\n",
      "Alternatively, if she has gas, cystometry might show a low residual volume, indicating that she has some gas present, which could be related to detrusor contractions.\n",
      "\n",
      "Wait, but the Q-tip test might not show gas expelling because she's not losing urine. So maybe she's at a certain level of gas presence. If she's at low gas presence, the Q-tip would show low volume. If she's at high gas presence, it might show higher volume.\n",
      "\n",
      "But the question is about what cystometry would reveal. So if the patient has gas, cystometry would show low residual volume, indicating that she might have detrusor contractions. Alternatively, if she has no gas, the Q-tip wouldn't show anything, but that would indicate gas impossibility, which might not be the case here.\n",
      "\n",
      "Wait, but the Q-tip test might not show any expelling air because she's not losing urine. So maybe she's at a level where she's losing some air but not others, but I'm not sure. I think I need to consider the typical findings.\n",
      "\n",
      "In a patient with acute respiratory failure, cystometry would show high residual volume and possible detrusor contractions. But in this case, she's not losing urine at night, so maybe she's not in acute respiratory failure. However, during activities, she might be pushing herself too hard, leading to detrusor contractions.\n",
      "\n",
      "So, if cystometry shows low residual volume, it would suggest that she has gas present, which could be due to detrusor contractions. Alternatively, if she's at a level where she's losing some air but not others, but I'm not sure.\n",
      "\n",
      "Wait, but the question is about what cystometry would most likely reveal. So if the patient has gas, cystometry would show low residual volume, indicating detrusor contractions. If she doesn't have gas, it would show high residual volume, but in this case, since she's not losing urine at night, maybe she's at a level where she's losing some air but not others, but I'm not sure.\n",
      "\n",
      "I think the most likely scenario is that cystometry would show low residual volume, indicating that she has gas present, possibly due to detrusor contractions. Alternatively, if she has gas impossibility, it would show high residual volume, but since she's not losing urine at night, maybe she's not experiencing that.\n",
      "\n",
      "Wait, but the patient's history suggests she might have gas impossibility because she loses urine during activities. So maybe the Q-tip test would show low residual volume, indicating gas impossibility, but I'm not sure.\n",
      "\n",
      "I'm getting a bit confused here. Let me try to summarize:\n",
      "\n",
      "- High residual volume: gas impossibility, no gas present.\n",
      "- Low residual volume: gas present, possibly detrusor contractions.\n",
      "\n",
      "In this case, since she\n"
     ]
    }
   ],
   "source": [
    "question = \"A 61-year-old woman with a long history of involuntary urine loss during activities like coughing or sneezing but no leakage at night undergoes a gynecological exam and Q-tip test. Based on these findings, what would cystometry most likely reveal about her residual volume and detrusor contractions?\"\n",
    "\n",
    "\n",
    "FastLanguageModel.for_inference(model)\n",
    "inputs = tokenizer([prompt_style.format(question, \"\")], return_tensors=\"pt\").to(\"cuda\")\n",
    "\n",
    "outputs = model.generate(\n",
    "    input_ids=inputs.input_ids,\n",
    "    attention_mask=inputs.attention_mask,\n",
    "    max_new_tokens=1200,\n",
    "    use_cache=True,\n",
    ")\n",
    "response = tokenizer.batch_decode(outputs)\n",
    "print(response[0].split(\"### Response:\")[1])"
   ]
  }
 ],
 "metadata": {
  "kernelspec": {
   "display_name": "env",
   "language": "python",
   "name": "python3"
  },
  "language_info": {
   "codemirror_mode": {
    "name": "ipython",
    "version": 3
   },
   "file_extension": ".py",
   "mimetype": "text/x-python",
   "name": "python",
   "nbconvert_exporter": "python",
   "pygments_lexer": "ipython3",
   "version": "3.12.3"
  }
 },
 "nbformat": 4,
 "nbformat_minor": 2
}
